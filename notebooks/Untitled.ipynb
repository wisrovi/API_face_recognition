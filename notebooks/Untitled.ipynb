{
 "cells": [
  {
   "cell_type": "code",
   "execution_count": 1,
   "id": "b6016476-3bc3-4749-8012-9a926aa385f1",
   "metadata": {},
   "outputs": [],
   "source": [
    "import os\n",
    "import requests"
   ]
  },
  {
   "cell_type": "code",
   "execution_count": 2,
   "id": "4505aa19-2866-4403-8756-2ada198edef8",
   "metadata": {},
   "outputs": [],
   "source": [
    "import warnings\n",
    "warnings.filterwarnings('ignore')"
   ]
  },
  {
   "cell_type": "code",
   "execution_count": 11,
   "id": "22334789",
   "metadata": {},
   "outputs": [
    {
     "data": {
      "text/plain": [
       "[('faces',\n",
       "  ('andrew_ng1.jpg',\n",
       "   <_io.BufferedReader name='../src/test/resources/u/andrew_ng1.jpg'>,\n",
       "   'image/jpeg')),\n",
       " ('faces',\n",
       "  ('hinton2.jpg',\n",
       "   <_io.BufferedReader name='../src/test/resources/u/hinton2.jpg'>,\n",
       "   'image/jpeg')),\n",
       " ('faces',\n",
       "  ('u10.jpg',\n",
       "   <_io.BufferedReader name='../src/test/resources/u/u10.jpg'>,\n",
       "   'image/jpeg')),\n",
       " ('faces',\n",
       "  ('u3.jpg',\n",
       "   <_io.BufferedReader name='../src/test/resources/u/u3.jpg'>,\n",
       "   'image/jpeg')),\n",
       " ('faces',\n",
       "  ('yann_lecun4.jpg',\n",
       "   <_io.BufferedReader name='../src/test/resources/u/yann_lecun4.jpg'>,\n",
       "   'image/jpeg'))]"
      ]
     },
     "execution_count": 11,
     "metadata": {},
     "output_type": "execute_result"
    }
   ],
   "source": [
    "FOLDER_IMAGES_TEST = \"../src/test/resources/u\"\n",
    "\n",
    "def open_image(file_name):\n",
    "    name = file_name.split(os.sep)[-1]\n",
    "    return (name, open(file_name, \"rb\"), \"image/jpeg\")\n",
    "\n",
    "data_images = []\n",
    "for file_name in sorted(\n",
    "    [x for x in os.listdir(FOLDER_IMAGES_TEST) if x.endswith(\".jpg\")][:5]\n",
    "):\n",
    "    data_images.append(\n",
    "        {\n",
    "            \"send\": (\"faces\", open_image(f\"{FOLDER_IMAGES_TEST}/{file_name}\")),\n",
    "            \"fingerprint\": \"\",\n",
    "            \"name\": file_name.split(os.sep)[-1].split(\".\")[0],\n",
    "            \"id\": -1,\n",
    "        }\n",
    "    )\n",
    "\n",
    "ROSTROS_GUARDAR = [s[\"send\"] for s in data_images]\n",
    "        \n",
    "ROSTROS_GUARDAR"
   ]
  },
  {
   "cell_type": "code",
   "execution_count": null,
   "id": "d61bcde1",
   "metadata": {},
   "outputs": [],
   "source": []
  },
  {
   "cell_type": "code",
   "execution_count": 6,
   "id": "493e8a66-9c37-4d03-9103-c7a8c682c24f",
   "metadata": {},
   "outputs": [],
   "source": [
    "BASE_URL = \"http://localhost:1722\""
   ]
  },
  {
   "cell_type": "markdown",
   "id": "c70112c5",
   "metadata": {},
   "source": [
    "# Company data"
   ]
  },
  {
   "cell_type": "code",
   "execution_count": 15,
   "id": "fae1f935",
   "metadata": {},
   "outputs": [],
   "source": [
    "COMPANY = {\n",
    "    \"company\": \"eCaptureDtech\",\n",
    "    \"group\": \"AIDIAGNOST\",\n",
    "}"
   ]
  },
  {
   "cell_type": "markdown",
   "id": "17c76cea-cfc2-41b9-8e67-687a90907184",
   "metadata": {
    "jp-MarkdownHeadingCollapsed": true,
    "tags": []
   },
   "source": [
    "# 1. Register"
   ]
  },
  {
   "cell_type": "code",
   "execution_count": 9,
   "id": "dfc8d47b",
   "metadata": {},
   "outputs": [],
   "source": [
    "faces_to_fingerprint_url = f\"{BASE_URL}/faces_to_fingerprint\""
   ]
  },
  {
   "cell_type": "code",
   "execution_count": 12,
   "id": "468efc77",
   "metadata": {},
   "outputs": [],
   "source": [
    "COMPANY_SEND = COMPANY.copy()\n",
    "\n",
    "# para guardar en la base de datos\n",
    "COMPANY_SEND[\"save_db\"] = True\n",
    "\n",
    "response = requests.post(\n",
    "    faces_to_fingerprint_url,\n",
    "    files=ROSTROS_GUARDAR,\n",
    "    data=COMPANY_SEND,\n",
    ")\n",
    "\n",
    "if response.status_code != 200:\n",
    "    print(response)\n",
    "\n",
    "for i, result in enumerate(response.json()[\"indices\"]):\n",
    "    data_images[i][\"fingerprint\"] = response.json()[\"fingerprint\"][i]\n",
    "    data_images[i][\"id\"] = response.json()[\"indices\"][i]"
   ]
  },
  {
   "cell_type": "code",
   "execution_count": 14,
   "id": "ee55eedd",
   "metadata": {},
   "outputs": [
    {
     "data": {
      "text/plain": [
       "{'andrew_ng1': (1,\n",
       "  'MRv1llRWmnqJES6TdWXyrl4o+vSCOyPB/Iv4eeBS5lAUPhcEV0keKoM7Ot78gMJMM28RJiA5nS3RQLzlRS74B+7iPAkdCitQxMcbvKbDY50+DTtMXMNcW3qgfM41uRISUdKK71HJfPwIt/LXd5JCe61OenMh+zhjF8DUpHI/wAPpKAKXg1swDNEcPUGC5Mf9sFFlzALPZqaQsq1Qs/3wnDAZjfc3C+0f8bBv0rJ/cHHsaNZW/Gd+t5UIGFeYwczgZfYFe98EWIxiok/6Sq7BSIPuKqa60PJEK8am+aJ5Ij4+1DMWerMi4ZxoazU97J2LblOISVdWF7uJIqSeWcB+GeRzdjJJuE5as96iM1WKBe4oMjIIiSg/tQ/3Ak5r69awUua3ezCy9m0zpBbtw3btCJyV6FdVv00X6w+F25w8037Fj4WmDJeZvbMEjGx0ur/slPsyF8MdlDtkWc0wY9JTzc90vpvjAd9KFnwgme5l6l0PV39klQp1l+c/4D7k9N1RLXZVGIhGvwS61bwx6Ls2TR89SxSqmsDi+K6YBsYxpK6B2HluB4f0EHgLZuxHu1CALu00NcacmlMXJaCY6wgaboRNluZanstL6VptuYxD93Og4F8xHAzCMARGiK4oO5BbjPbp1W4DVB2u5GBHRms8e684Kpp+j7UBqly0hWPzxWa+KGSA2EucEOmSXugEKiN3hc+XFI+KASiITvBVRg2IeYQOE0U8B8AFKkjwwEFzmL3ZBSo0W1GxSYSHKNpZ1FT1yspN5F/Ch1/2BmqcdgON8/lsi9bQfDYl4Ploif4d7yoDc2eUxz9amXUCe553jSi8E2Kn7KBml43JIfXAaiGVSmApX/WZ4NBndmva3xLdAs8d6PgPTYl+rdnvmlBo2XLEkYT/mA/mGUcS601LdrMfsT4RVqTfVXST/IqC4QX4YW15AcU9Vu04Yha8WJfSAtd73cZALGtuqnHwcNJgZf6ZnQ4jwt2YtE97oJYNcej3zkuHm/oAQ8FsXfQdTC/hhCWGlpaOLjwFpfUu+Ns/ogocILj/Aq352CmtWp0onOFdUQhtdAlz8msOgA7EcOLdxyNmodk70RxQI4ROCp1Nj2LLqN0xvXlO2UfjGRW/U6px3j0TRoBL5jFpILOb1C2q/g/87tamzQPF64oGMVYfpipnFwc7rk9XaaiWfgxJERVZlSu4j5nA5+dnG5yymo1mYXgMrHe4jZv9mCaT+VWyoQe9DYrLCc61Rp87hWoOALWLBnIBJVf8ecDWZGgLLGt0MQi4PgmZZBDgmaFzlqCjYLr1tqx1qocQLR5frcScCI18d8XSkAhNywCihpwIeOeFBs8EYm0p7eOdtgptO+A5R+Oj0YpKU+Cduda+nlsYXE9QSV3cvKIgKr0TyPWTk0/+4okpKjg2qci/E0NQJmnZv5O5V0QNGOgSt+XBCpK7ErQIZ1jH4XuoC/dIUwFAlvBZRt1mw1mwy80FtvQEJ1r6PCU0ciukskNQ7tBut2Vqr2KrPWttQnwgQQy7gsHujrEpfPcfni128DFbrU6o4LWOyJ9oHxw9MsSZYtvBW8cGVQNG+Q1fCpeE3YzkAqXRLstvMaDdRALvrn2ZGV5oQZJo/rYC0ou7vXdN8bfchG1l+gNx6mJvnN+auKRMdMqxNyIgtT2NedckxO9xoQogjppJVDesqOAQN5NW1/4nrloHFTZ3R2Xg0AVPDloJb5IMOcWZnSGRryOUXZ/Ap039PDb4NBbZoBPMAk/zrM/yw+Wer6gjPFIM9dauV9wMztt9KMpX4L2djpvalsA/jSXKC//dPUbklulcB7x4/JGMk4ky5o0o4SH2uS+AHcGuCmbQYcVMjvVNDzN8GB8pf4wDNMxcvnV3uZ3RS2+iVqyXQLLvp36+MrnXQrwYW+cZX7PzO/nGqo5CiKyAIFZKne4sHgZn7vsituh3Px3CusjK6sHzP7UPtsb/ds1vFwfKijMC+2rmhUMnutPBd0dxva2PvmD6ZGcsVU/RynboEBSRUiiH5FZ/ZBumVR+KBGDE+ebJBZa9+ba/YKk+dN/D5qbOZj+L52snc75jrxltpUspJuEQZUDGVrP8zQVBaVo3d558xlfW+MA+y1rYWBFYcbrVAdEbka6SQuGdrk7fjBzttfnj12eOqtGtYZ64RzQOIsxUK3hP2JKOkbTLl0PdgOkSbktR3lUOaiqZImDMKW0P/xkD39jXMP5YM0Hpug8M4+9gX8Hy59EaikDkuqrd5Y1Yf8mmyDPyKS1swtqNELkkGmscYutKoesG4Op2xMRQlYl9JMhkrcplkhnOOv6b+3kgb7FUYjn89YARWCA15P6rK8oFHZcY+Uvl8jpCfIf5TU3vaoQ/02nRMiNWK2CYOthcxC1bQRh9sBwOwlj8nJgNqKe2TmbzU/skXkCK+Md3L/JuUXZU0tsLrpTDf/1bslxUkOUqtM2rNVXk38H3IX0kCsvX97wIqAfezAi0GTFWvLq8HlnrzBiq/n1GO+O52UUhXl/NrOCmWiWQ3xhZqxsd8RwthKJcPyxC8pg5Z35p0cZ12Gk7Pojr78W2Cme6sriQ/6gpmDfsMuBnwB8Yy0K6kE2hqsRl9PWP5KAblU3HK2TDmahJGzbP+NWnr6nwmsICXBgNxKSl13GxAFIQtZGm2g05A+GEPGVhSmVxhdI+ThoWjrjwtFvkGW7J4P6QKkxjXNSo8i6qbupTCArDwqiiLRR7P0ReNyFjHb1ZDFRhMQSNFz53Lurir4lgwGCYEeOxZEAC3LGC1wnnhy7+S0yRuA1gIKuOOaKs77xB44wHlcydSslKbeU/XVnr0bL8ATOC7RObcmXQdouUFbRQG1qV773uoTyEfDyCPtLaOxhbIfVKMDcnQvZMNahVhDhJP2HI0irYJBTRfU+boEiv6gkUMxH8gywqhtHMzumGuoXXzka3H5kpceWbebXIL6neGsuonl8K8SZz6HC0NM+A02Onyl8WaOznygFwyHcAjPLCSB6f/b2f6voki0ve3xY92vhfVA8PCP7Vxrb5g7bIekvOMoUG4RIJZnFcCM30AuZJfTwqHCw3ijqRxznSaQ1KuRe33oNng9I5FpHbrn82iQVgrHaAEGhuQeEAulFO8CoEjPzokgI4kKCEyXVnQbVqHrpTU2jdMdwC1TB2vQdmuG/aQ9zE/kRXFIGB04bJQ2XSH7DZk/ss3DWSrkeK/T05AoJE6OlAhjvSnji36vrQJAmksbEk7ABWY0JynPKkXXPEiSCIeIeugjROuBeMIiHXWfjnFRa8LCqL4u6lpKrvKcu31hGTwuZ/2Li/C/FOZVD0qQalcx98B02XOwKNa5Jm+/WocKlQIrWLiXEY1i6pWfvdK7UPNSdYlHV1OYRA0qbaHz2HUaEKlVqKIz4f3N6fzN2YHqUJUjnweHiDGEU0BRH/v11a/cGJDkfoO6+M7Sxl5Dxk58QPeY4bad/pDjTQI9x/etUSE+h1vaakdRbb/FuDOF4bEHmJknRWHdBfIsYgYQgH4Sv1d97noOhEz5ZB4DUTkl32dojQ5ZwfIn4ov1kXHOUZSwWx+HBju77ii1e1ANJ9a28dtJSHJ8Nm+tNYJAK7VewU98SHeLU4pRMBX6YDylqBxsek0j6tYrdi6P1OGnNfD1HpsWDNwZb/Hm+ypwUCG9WlaxGoUDxvtnaBxglZnr3KGcjEn1xtmO+WsoUOIoYLD85cJI2UocBZrffLmQ3d5u0XMJ9XlQ=='),\n",
       " 'hinton2': (2,\n",
       "  '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'),\n",
       " 'u10': (3,\n",
       "  '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'),\n",
       " 'u3': (4,\n",
       "  'jU0rdTIzkZAYecBjv5kUUUKIF6rODPYxBotdXbCLcJmU9wjrjTLLuI6BbX6xUEHDBsdCbHUHitw+wciF8icTCBvgnLxnuiD0NfvQrGpiOsDMjUH9QNmtzDSqCPVqUs6oqCHAdyhvfX2jIlfCNkTlo/YrRrwlbvo6ILIiR7+vMMYA2tVmW2w55NOpSSmimWf7Nfr3hMK5vBl0HlWYi1MloeAnFoPRchw3kO5ffomrkwzAgYkil3HTXusouZ2mMSTY7Tu8uGReXeH0MumuFevFxVqq+lstxv4UDaAm+4EZ/T+ZIZnrhrpD7D9J9ld5ACx89t5zz2YVhXERR9QcJvYyUioRkL3dwdq+W3/kIm0tCRYNc6qJRuSXD3cTKJDbDx2Djm2/FIdkTw5dnRRgZg48qot+Fd0H1y2F0qOecFtZXhAONWFJDASYYLqhPvKQvSthmDbWlNajQ86bi2D4IXpEAKgWkam309xGOQjbcFPljfshUtkeSMX8yt+cmbYjXmMRn1x/qkDAHqOdHmr9EZquL/1nHQ76HgTU6F42UBy2LK9PAWRAyT0bMj0gN9C/6BLOXqqkvQoLdREZgrLnwEhULOpfQXb7TYCKdL2b4BtvsPuvSWhSDzPcDmJp9kVce2d9lp01+MIgvY+ixkFOh49O7RZ1SB6ro+mC1sqvesoXxbcEvWJxmpFNNzHnZAGyDXGmxYwO7aHfUJIIJ6YyWFVN6NXFLZYcormSLBY0egqqQWNhtkyFXq8TI2mkrBUrTl9fQrpAlzJX3wIA517jO4BrH5P61hOjFEfnITyI9/MuGJym1xcEkHUBjkGJuxBwifMMSpS+d5OSXYZ6fSENC2MhtGuejGKb07Q9YQJrARTOT+DvSozxktG2QMMVUQEDPB6qAaksnNOKTXRtYcx7NNAd02931C33wLwUODgEgcKF71C3uzIWRzT6bqRU3ppKfEAnqHOY5dW1dBQhu6npJwfNHzAqaFQAETFaXwLGe0E763TiVop4LPRwSHdEcScVxk5ad/cZRsou8b4BcD2Xke1jM65G2F4Ij/sWwATSpHZ1kvo1SRtljFzyIk5cawOz/Cq0oy7J6hwmaSqEJbOez7A7FRRuPcKsefa2UlAcE7vjKXY872Io6ziSGJBlKE75dFY0wr40NYz7pujqa8OMnE/rrDkrpAIlFUJMs4/zP5MuzNQ3wp9TZs9C7rifs0drRfoTycN312yq75rO3kPheGz+rwa2IRcJ6EUOrfTbsi8wUnrsrvRfWlF919OLSgbLWJa+EybGwaiYNYlCovJQabCuZZ1YGhn7fb6pDPWNMoA7EdCCvlxp4LXKDmlZCzs8BQNnwpZd9ScTG5Nuem/VkcgrfqOcdRmlPEu3wBE7coB5b4JUuOcqJWV2eCVE/jCBCFy7XThJt9nQkI8iJIgZYLiLHvVIWtZCpG6xqbptWzVR98V7QkGUNRRiat0f7CHfph/GQFY1Wxs74YXAWZyBDsasNaebElhAT8feXZ1ANQVbG9KfBWTbTK4sXpSDQ83Hl06rJgSj7BquOj5drdaN2+tiMBJY/Uy8tKD84Rmge9IQCJoJXWcboop2KuwHZ6OTFpOWna0JLbqOuJduc9y2yeUcNY0GPUDWSloFRmxyPkj1Xt+bHZiq9XjdVLcIg9i+FhJ1ftsXXsBrKEG5g3lA51Kn24qwEz7bQSIye2Zw3iMJ5Ox/GtZbwDNHUFfw3ZHm8RLVVqouYgL0n93gL9AcuzD9O0weqXAby93RkAQfYK9WOJFRRQ1YJxCwTBoazIS6OtwRJCvJ67XI4M5V16JLkcaX+lijMPTGnywG7jmDsAUtpkGFo8n+pExXg5sjM1WnaglJNIy0MLzzUKxGPnDgJHAp6VV76DEAywty4T9UfgNPqyAO014aXscHKtij0CIumIX3kBwYjf2BD+hQJa9evWu/69VpYYfZDAS2kISxjZE46lAKjXSmn7CTrXLUxhjuTM7j+OffFkCgksvpRHDxA1U6AXnGTbGdpS1PkV89O6RIP6A5aWV2PJ5BDW9T8GpL0nrCExM9sE3GAiBnhESb3fHQ/Png88ha13DkV1/IsVgfPF/iPgGGH4RElZ/u6tjvZM+/TXr5P8RmBo7vVd6rQkDT/88nvVOCOLyey+8sEYlk1t4NAujk1QHEpjUjTqJkHJuPkn6CWKOB4/QAaPlp1ED7vbE8S6TjbAhft8n02rhJkcN5EAK8GCbJfXgAU14Epbpx10HF0qH+0fpVMwPnaX4jXHoWnOW6iY0/Hdlenb9qeBzau0U17ruG+tM1m9KPcOnfd1/KR2BzynCAG7zgJY7ot7RMdbXHCfrrsh3gY4bA0Sf7+c3WW+GqJH5mF9lzqRTnZmFkdDjGxg0SeSSnucc63d6Iz7brjc6H+Y5+nkbH396n4ueE9WXc4cA8T4t/D7fW54P1mD2BLQl6hi1KwJL+xFEZbOudgOYbBWH2D833t3BiYxfj9iI9EWt263kj6e7IdbOwOumBY3IqNFqIH8sPFokYhWqOQV58eThvms6g3hR5orfOkJKfwHNBH3zNCB1ZE119h71spo7GyPuPhgfMLuHhVUyEvEGTtVq/D1fHSaxVz+G0RXQuJEqzCx6905gl2FdjgP6/HJAdF3uRMgTPkZmfh2AG2DWLZjycaNiQp4FUIOxlBXwB3/2ddWI74xOG2ToBqNobv4RgcebQQ6ReOPwj4qYsibzRGfEindx2/SbKBL2EO3A0TcxYyNpio1J4a5DvWMD8ghSpj++wrUV4VeckdagRpnpaQmbAf6pvtV2UbVSMIKieTu049C3nMXN7iWIeTjajIrsOLMCyZvRGUo6dYSUDV007R+Gp9ZI8E4cXUeODQqPW/m3GcLP1kLWX1X/vf6aEIpBYjaAPeDr/V0C6kkja1AKLDqvFRkAnS1kXO6MH2Z+o0HEFnAqofdrmKF6On14uV2SnhhXs8gpzJlxGzgUdsbVjXHJ5mjF8nmlbzbULaqCdzhZJWLtdnvMht4g8KNaBgLccuPJhEEHNB1aBfX5efzcQbUvo+zdvVRBJZo3GhTKXFEDAkEMom/QSoODZfTSC6kTGSeJpM3WvZ9yyIZzX6m5jaNgL4aVMYLaXIUkAU/LwuP6dPnE4CdGRJZer1wTiDFQ6WMSkVLE5h2yMd2FsfXBMVPPv06Q8CuA+9AC8kBpsm2fVQ4EziIpN7zUQfruc96ft3ZZ6jwa0CxxgYdc/eMuLhOubn37IM93xK4KDn3kNYJx4PI3WAvYIbm+Ck/HyCQDfuVTVFkmFwScII2n2NjgUVRjW9519VEAAlfZVSrYBNkB5KS3qUTy1UP09EWqJsqg9jMS3e5sBBoVrBxinVwAJi2jeMAhu5faCRMtSrDOaBRaTqtGBAvykp3Dl9+fD1DFmyr7cpxCAFayfWp4i8Y+kyevZJN8S5HCwxQ6Sdu/JOmZDDLT0hu5t/t4x/wOxWiGEvX4x9+ZxdWS2U1O8yy+sTelFzizF07/gP3O0SHUx80+2SV312tbYrQkb/p2DaWiKpoLjwgCYlqCSXcqT54eEsQ+NfgfoGpeZda2HVH1Htn36MldWRNYOJqA0r2OtA5koIAskNsueIEfVgRiGyD9eM8eYjkKzhJeOAzr6WiV8ANSq63gv3yzdGPPHxXG36zQSVz+yfaLPDexRJL6Q3OqkGpd2Y8CzbZYTQr5D+VR/fgpEb9rFu0Qs'),\n",
       " 'yann_lecun4': (5,\n",
       "  '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')}"
      ]
     },
     "execution_count": 14,
     "metadata": {},
     "output_type": "execute_result"
    }
   ],
   "source": [
    "{person[\"name\"]:(person[\"id\"], person[\"fingerprint\"]) for person in data_images}"
   ]
  },
  {
   "cell_type": "code",
   "execution_count": null,
   "id": "0ff04a99",
   "metadata": {},
   "outputs": [],
   "source": []
  },
  {
   "cell_type": "markdown",
   "id": "c2b379fc",
   "metadata": {},
   "source": [
    "# 2. compare face with database"
   ]
  },
  {
   "cell_type": "code",
   "execution_count": 21,
   "id": "e35e8c55",
   "metadata": {},
   "outputs": [],
   "source": [
    "faces_url = f\"{BASE_URL}/faces_vs_database\""
   ]
  },
  {
   "cell_type": "code",
   "execution_count": 24,
   "id": "b117ee7a",
   "metadata": {},
   "outputs": [],
   "source": [
    "ROSTROS_COMPARAR_CON_BASEDATOS = [\n",
    "    (\"images\", open_image(f\"{FOLDER_IMAGES_TEST}/robert_1.jpg\")),\n",
    "    # (\"images\", open_image(f\"{FOLDER_IMAGES_TEST}/robert_2.jpg\")),\n",
    "]"
   ]
  },
  {
   "cell_type": "code",
   "execution_count": 25,
   "id": "9bda1f52",
   "metadata": {},
   "outputs": [
    {
     "data": {
      "text/plain": [
       "[[2, 3]]"
      ]
     },
     "execution_count": 25,
     "metadata": {},
     "output_type": "execute_result"
    }
   ],
   "source": [
    "response = requests.post(\n",
    "    faces_url,\n",
    "    files=ROSTROS_COMPARAR_CON_BASEDATOS,\n",
    "    data=COMPANY,\n",
    ")\n",
    "\n",
    "matched_indices = response.json()[\"matched_indices\"]\n",
    "matched_indices = [sorted(x) for x in matched_indices]\n",
    "matched_indices"
   ]
  },
  {
   "cell_type": "code",
   "execution_count": 26,
   "id": "482d5a64",
   "metadata": {},
   "outputs": [
    {
     "data": {
      "text/plain": [
       "{'matched_indices': [[2, 3]]}"
      ]
     },
     "execution_count": 26,
     "metadata": {},
     "output_type": "execute_result"
    }
   ],
   "source": [
    "response.json()"
   ]
  },
  {
   "cell_type": "code",
   "execution_count": null,
   "id": "c46e9dfe",
   "metadata": {},
   "outputs": [],
   "source": []
  }
 ],
 "metadata": {
  "kernelspec": {
   "display_name": "IA",
   "language": "python",
   "name": "python3"
  },
  "language_info": {
   "codemirror_mode": {
    "name": "ipython",
    "version": 3
   },
   "file_extension": ".py",
   "mimetype": "text/x-python",
   "name": "python",
   "nbconvert_exporter": "python",
   "pygments_lexer": "ipython3",
   "version": "3.10.13"
  }
 },
 "nbformat": 4,
 "nbformat_minor": 5
}
